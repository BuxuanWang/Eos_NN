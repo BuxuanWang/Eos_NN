{
 "cells": [
  {
   "cell_type": "code",
   "execution_count": 43,
   "id": "58ce8530",
   "metadata": {},
   "outputs": [
    {
     "name": "stdout",
     "output_type": "stream",
     "text": [
      "Train size:  49\n",
      "Test size:  90\n"
     ]
    }
   ],
   "source": [
    "import matplotlib.pyplot as plt\n",
    "import numpy as np\n",
    "import random\n",
    "import scipy\n",
    "%matplotlib qt\n",
    "# 数据载入与预处理\n",
    "df = np.loadtxt('C:/Users/DELL/Desktop/eos/Bgm_rhoTP.txt')  # rho,T,P\n",
    "\n",
    "df[:,0] = 100.3870/df[:,0]\n",
    "df_V = df[:,0]\n",
    "df_T = df[:,1]\n",
    " \n",
    "dataX = df.copy()\n",
    "lnT = np.log(df_T)\n",
    "INCLUDING_LNT = True\n",
    "if INCLUDING_LNT:\n",
    "    dataX = np.hstack((dataX[:,:-1], lnT.reshape(-1,1), dataX[:,-1:]))\n",
    "\n",
    "Data_min = np.min(dataX, axis=0)\n",
    "Data_max = np.max(dataX, axis=0)\n",
    "Data_scale = Data_max - Data_min\n",
    "\n",
    "Vmin, Tmin, Pmin = Data_min[0],Data_min[1],Data_min[-1]\n",
    "Vmax, Tmax, Pmax = Data_max[0],Data_max[1],Data_max[-1]\n",
    "Vscale, Tscale, Pscale = Data_scale[0],Data_scale[1],Data_scale[-1]\n",
    "\n",
    "dataX = (dataX - np.min(dataX, axis=0, keepdims=True))/(np.max(dataX, axis=0, keepdims=True) - np.min(dataX, axis=0, keepdims=True))\n",
    "\n",
    "# get train/test split\n",
    "Tthres = 3010\n",
    "Pthres = 121\n",
    "LL_idx = np.logical_and(df[:,1] < Tthres, df[:,-1] < Pthres)\n",
    "LH_idx = np.logical_and(df[:,1] < Tthres, df[:,-1] >= Pthres)\n",
    "HL_idx = np.logical_and(df[:,1] >= Tthres, df[:,-1] < Pthres)\n",
    "HH_idx = np.logical_and(df[:,1] >= Tthres, df[:,-1] >= Pthres)\n",
    "\n",
    "EXP_TYPE = 0\n",
    "if EXP_TYPE == 0:\n",
    "    data_train = dataX[LL_idx]\n",
    "    data_test = dataX[HH_idx]\n",
    "elif EXP_TYPE == 1:\n",
    "    data_train = dataX[~HH_idx]\n",
    "    data_test = dataX[HH_idx]\n",
    "elif EXP_TYPE == 2:\n",
    "    data_train = dataX[::2]\n",
    "    data_test = dataX[1::2]\n",
    "\n",
    "print('Train size: ', data_train.shape[0])\n",
    "print('Test size: ', data_test.shape[0]) \n",
    "\n",
    "X = data_train[:,:-1]  # V-T-lnT\n",
    "y = data_train[:,-1:]  # P\n",
    "# y += np.random.normal(0, 0.01, y.shape)  # this help improve the training\n",
    "Xtest = data_test[:,:-1]\n",
    "ytest = data_test[:,-1:]"
   ]
  },
  {
   "cell_type": "code",
   "execution_count": 44,
   "id": "4956306c",
   "metadata": {},
   "outputs": [],
   "source": [
    "# 用多项式回归得到P\n",
    "from sklearn.preprocessing import PolynomialFeatures\n",
    "from sklearn.linear_model import LinearRegression, Lasso, Ridge, ElasticNet, BayesianRidge, ARDRegression\n",
    "\n",
    "def poly_regression(x_train, y_train, degree, reg_model=LinearRegression()):\n",
    "    poly = PolynomialFeatures(degree)\n",
    "    poly_train = poly.fit_transform(x_train)\n",
    "    reg_p = reg_model.fit(poly_train, y_train.ravel())   \n",
    "    return reg_p, poly\n",
    "\n",
    "def make_prediction(reg_model, poly, xtest):\n",
    "    test_features = poly.transform(xtest)\n",
    "    p_pred = reg_model.predict(test_features)\n",
    "    p_pred = p_pred.reshape(p_pred.shape[0],1)\n",
    "    return p_pred\n",
    "\n",
    "degree = 4\n",
    "# model = BayesianRidge()\n",
    "model = ARDRegression()\n",
    "# model = LinearRegression()\n",
    "# model = Lasso(alpha=1e-5, max_iter=1000, warm_start=True, tol=1e-4, selection='random')\n",
    "# model = Ridge(alpha=0.1, max_iter=1000, tol=1e-4, solver='auto')\n",
    "# model = ElasticNet(alpha=1e-6, l1_ratio=0.5, max_iter=1000, tol=1e-4, selection='cyclic')\n",
    "\n",
    "reg_model, poly_feature_trans = poly_regression(X, y, degree, model)\n"
   ]
  },
  {
   "cell_type": "code",
   "execution_count": 45,
   "id": "dba7a95a",
   "metadata": {},
   "outputs": [],
   "source": [
    "# 定义P(v,t)\n",
    "def P(v,t):\n",
    "    v_std = (v-Vmin)/Vscale\n",
    "    t_std = (t-Tmin)/Tscale\n",
    "    lnt_std = (np.log(t) - np.min(lnT))/(np.max(lnT) - np.min(lnT))\n",
    "    p_std = make_prediction(reg_model, poly_feature_trans, np.array([[v_std,t_std,lnt_std]]))[0][0]\n",
    "    p = p_std*Pscale + Pmin\n",
    "    return p"
   ]
  },
  {
   "cell_type": "code",
   "execution_count": 46,
   "id": "f872769e",
   "metadata": {},
   "outputs": [
    {
     "data": {
      "text/plain": [
       "15.526371957349534"
      ]
     },
     "execution_count": 46,
     "metadata": {},
     "output_type": "execute_result"
    }
   ],
   "source": [
    "# 对P求变上限积分（任意值）得到F\n",
    "from scipy.integrate import quad\n",
    "\n",
    "# 积分常数项f(T)\n",
    "def f(t,zeta):\n",
    "    f_t = zeta[0] + zeta[1]*t + zeta[2]*(t**zeta[3])\n",
    "    return f_t\n",
    "\n",
    "def F(v,t,k):\n",
    "    result,err = quad(func=P,a=Vmin,b=v,args=(t,))  # args为函数P除自变量以外的参数t的值(元组)\n",
    "    # result为积分值，err为算法的计算误差\n",
    "    int_value = f(t,zeta=k) - result\n",
    "    return int_value\n"
   ]
  },
  {
   "cell_type": "code",
   "execution_count": 5,
   "id": "bd0dc33d",
   "metadata": {},
   "outputs": [],
   "source": [
    "# 定义能量E函数(任意值)\n",
    "def E(v,t,s):\n",
    "    dt = 1e-3 # 数值偏导数的微小增量\n",
    "    e = F(v,t,k=s)-t*((F(v,t+dt,k=s)-F(v,t,k=s))/dt)\n",
    "    return e*(6.241509326*0.001)  # 量纲换算"
   ]
  },
  {
   "cell_type": "code",
   "execution_count": 6,
   "id": "5a5c8796",
   "metadata": {},
   "outputs": [],
   "source": [
    "def P_hat(v,t,u):\n",
    "    dt = 1e-3\n",
    "    dv = 1e-3\n",
    "    p_hat = t*((P(v,t+dt)-P(v,t))/dt)-((E(v+dv,t,s=u)-E(v,t,s=u))/(dv*6.241509326*0.001))  # 量纲换算\n",
    "    return p_hat"
   ]
  },
  {
   "cell_type": "code",
   "execution_count": 48,
   "id": "afb401c8",
   "metadata": {},
   "outputs": [],
   "source": [
    "# 定义损失函数\n",
    "\n",
    "def loss(theta):\n",
    "    mse = 0\n",
    "    p_train = y*Pscale+Pmin\n",
    "    v_train = X[:,0]*Vscale+Vmin\n",
    "    t_train = X[:,1]*Tscale+Tmin\n",
    "    for i in range(y.shape[0]):        \n",
    "        mse += (p_train[i][0]-P_hat(v_train[i],t_train[i],u=theta))**2\n",
    "    return mse\n"
   ]
  },
  {
   "cell_type": "code",
   "execution_count": null,
   "id": "4cef6093",
   "metadata": {},
   "outputs": [],
   "source": []
  },
  {
   "cell_type": "code",
   "execution_count": 49,
   "id": "1eeb3db9",
   "metadata": {},
   "outputs": [
    {
     "name": "stdout",
     "output_type": "stream",
     "text": [
      "   direc: array([[1., 0., 0., 0.],\n",
      "       [0., 1., 0., 0.],\n",
      "       [0., 0., 1., 0.],\n",
      "       [0., 0., 0., 1.]])\n",
      "     fun: 0.14012354976490898\n",
      " message: 'Optimization terminated successfully.'\n",
      "    nfev: 388\n",
      "     nit: 3\n",
      "  status: 0\n",
      " success: True\n",
      "       x: array([-800.95222939,    1.64960527,    1.80524773,    1.32862352])\n"
     ]
    }
   ],
   "source": [
    "# 优化\n",
    "from scipy.optimize import minimize\n",
    "\n",
    "# 初始化变量\n",
    "theta0 = np.array([-799.28947485,-0.96842873,1.78234985,0.9679437])\n",
    "\n",
    "result = minimize(loss,theta0,method ='Powell')\n",
    "print(result)"
   ]
  },
  {
   "cell_type": "code",
   "execution_count": 56,
   "id": "9d06d235",
   "metadata": {},
   "outputs": [
    {
     "data": {
      "text/plain": [
       "<matplotlib.legend.Legend at 0x2366c7199d0>"
      ]
     },
     "execution_count": 56,
     "metadata": {},
     "output_type": "execute_result"
    }
   ],
   "source": [
    "# 绘制优化后的曲面E\n",
    "\n",
    "grid_level = 30\n",
    "C = result.x  # 优化后得到的参数\n",
    "# C = np.array([-799.28947485,-0.96842873,1.78234985,0.9679437])\n",
    "\n",
    "vv = np.linspace(Vmin,Vmax,grid_level)\n",
    "tt = np.linspace(Tmin,Tmax,grid_level)\n",
    "E_grid_pre = np.full((grid_level,grid_level),0.0)\n",
    "\n",
    "vvv, ttt = np.meshgrid(vv, tt,indexing='ij')\n",
    "vt_grid = np.c_[vvv.reshape((-1, 1)),  ttt.reshape((-1, 1))]\n",
    "fig = plt.figure(figsize=(10, 8))\n",
    "ax1 = fig.add_subplot(111, projection='3d')\n",
    "for i in range(grid_level):\n",
    "    for j in range(grid_level):\n",
    "        E_grid_pre[i][j] = E(vt_grid[vv.shape[0]*i,0],vt_grid[j,1],s=C)\n",
    "\n",
    "p1 = ax1.scatter(vt_grid[:,0], \n",
    "                vt_grid[:,1], \n",
    "                E_grid_pre, \n",
    "                alpha=0.3,\n",
    "                linewidths=2,\n",
    "                c='b'\n",
    "#                 cmap='b'\n",
    "                )\n",
    "\n",
    "ax1.set_xlabel(r'Volume ($\\AA^{3}/atom$)', fontsize=15, labelpad=8)\n",
    "ax1.set_ylabel('Temperature (K)', fontsize=15, labelpad=12)\n",
    "ax1.set_zlabel('Eenergy (eV/atom)', fontsize=15, labelpad=9)\n",
    "ax1.legend(['Grid Data'], loc='upper right', fontsize=15)"
   ]
  },
  {
   "cell_type": "code",
   "execution_count": 54,
   "id": "80f3f2c7",
   "metadata": {},
   "outputs": [
    {
     "data": {
      "text/plain": [
       "<matplotlib.legend.Legend at 0x2366748e6a0>"
      ]
     },
     "execution_count": 54,
     "metadata": {},
     "output_type": "execute_result"
    }
   ],
   "source": [
    "\n",
    "\n",
    "grid_level = 30\n",
    "\n",
    "vv = np.linspace(Vmin,Vmax,grid_level)\n",
    "tt = np.linspace(Tmin,Tmax,grid_level)\n",
    "P_grid_pre = np.full((grid_level,grid_level),0.0)\n",
    "\n",
    "vvv, ttt = np.meshgrid(vv, tt,indexing='ij')\n",
    "vt_grid = np.c_[vvv.reshape((-1, 1)),  ttt.reshape((-1, 1))]\n",
    "fig = plt.figure(figsize=(10, 8))\n",
    "ax1 = fig.add_subplot(111, projection='3d')\n",
    "for i in range(grid_level):\n",
    "    for j in range(grid_level):\n",
    "        P_grid_pre[i][j] = P_hat(vt_grid[vv.shape[0]*i,0],vt_grid[j,1],u=np.array([-799.28947485,-0.96842873,1.78234985,0.9679437]))\n",
    "\n",
    "p_train = y*Pscale+Pmin\n",
    "v_train = X[:,0]*Vscale+Vmin\n",
    "t_train = X[:,1]*Tscale+Tmin\n",
    "\n",
    "p1 = ax1.scatter(vt_grid[:,0], \n",
    "                vt_grid[:,1], \n",
    "                P_grid_pre, \n",
    "                alpha=0.3,\n",
    "                linewidths=2,\n",
    "                c='b'\n",
    "#                 cmap='b'\n",
    "                )\n",
    "p2 = ax1.scatter(v_train, \n",
    "                t_train, \n",
    "                p_train, \n",
    "                alpha=0.3,\n",
    "                linewidths=2,\n",
    "                c='r'\n",
    "#                 cmap='b'\n",
    "                )\n",
    "\n",
    "ax1.set_xlabel(r'Volume ($\\AA^{3}/atom$)', fontsize=15, labelpad=8)\n",
    "ax1.set_ylabel('Temperature (K)', fontsize=15, labelpad=12)\n",
    "ax1.set_zlabel('Pressure (Gpa)', fontsize=15, labelpad=9)\n",
    "ax1.legend(['Grid Data','Train Data'], loc='upper right', fontsize=15)"
   ]
  },
  {
   "cell_type": "code",
   "execution_count": null,
   "id": "41362d7b",
   "metadata": {},
   "outputs": [],
   "source": [
    "\n"
   ]
  },
  {
   "cell_type": "code",
   "execution_count": null,
   "id": "8066a307",
   "metadata": {},
   "outputs": [],
   "source": []
  },
  {
   "cell_type": "code",
   "execution_count": null,
   "id": "72951d3e",
   "metadata": {},
   "outputs": [],
   "source": []
  },
  {
   "cell_type": "code",
   "execution_count": null,
   "id": "dd6817a4",
   "metadata": {},
   "outputs": [],
   "source": []
  },
  {
   "cell_type": "code",
   "execution_count": null,
   "id": "fe1b5d11",
   "metadata": {},
   "outputs": [],
   "source": []
  },
  {
   "cell_type": "code",
   "execution_count": null,
   "id": "70e0799d",
   "metadata": {},
   "outputs": [],
   "source": []
  }
 ],
 "metadata": {
  "kernelspec": {
   "display_name": "Python 3 (ipykernel)",
   "language": "python",
   "name": "python3"
  },
  "language_info": {
   "codemirror_mode": {
    "name": "ipython",
    "version": 3
   },
   "file_extension": ".py",
   "mimetype": "text/x-python",
   "name": "python",
   "nbconvert_exporter": "python",
   "pygments_lexer": "ipython3",
   "version": "3.8.7"
  }
 },
 "nbformat": 4,
 "nbformat_minor": 5
}
