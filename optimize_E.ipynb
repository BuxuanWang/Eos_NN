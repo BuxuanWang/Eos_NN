{
 "cells": [
  {
   "cell_type": "code",
   "execution_count": 1,
   "id": "26b7c5b0",
   "metadata": {},
   "outputs": [],
   "source": [
    "import matplotlib.pyplot as plt\n",
    "import numpy as np\n",
    "import random\n",
    "import scipy\n",
    "%matplotlib qt\n",
    "# 数据载入与预处理\n",
    "\n",
    "df = np.loadtxt('C:/Users/DELL/Desktop/eos/data.txt') # V, T, P ,E\n",
    "\n",
    "df_E = df[:,-1]\n",
    "df_V = df[:,0]\n",
    "df_T = df[:,1]\n",
    " \n",
    "dataX = df[:,0:-1].copy()\n",
    "lnT = np.log(dataX[:,1])\n",
    "INCLUDING_LNT = True\n",
    "if INCLUDING_LNT:\n",
    "    dataX = np.hstack((dataX[:,:-1], lnT.reshape(-1,1), dataX[:,-1:]))\n",
    "\n",
    "Data_min = np.min(dataX, axis=0)\n",
    "Data_max = np.max(dataX, axis=0)\n",
    "Data_scale = Data_max - Data_min\n",
    "\n",
    "Vmin, Tmin, Pmin = Data_min[0],Data_min[1],Data_min[-1]\n",
    "Vmax, Tmax, Pmax = Data_max[0],Data_max[1],Data_max[-1]\n",
    "Vscale, Tscale, Pscale = Data_scale[0],Data_scale[1],Data_scale[-1]\n",
    "\n",
    "dataX = (dataX - np.min(dataX, axis=0, keepdims=True))/(np.max(dataX, axis=0, keepdims=True) - np.min(dataX, axis=0, keepdims=True))\n",
    "X = dataX[:,:-1]\n",
    "y = dataX[:,-1:]"
   ]
  },
  {
   "cell_type": "code",
   "execution_count": 2,
   "id": "38c0b0e2",
   "metadata": {},
   "outputs": [],
   "source": [
    "# 用多项式回归得到P\n",
    "from sklearn.preprocessing import PolynomialFeatures\n",
    "from sklearn.linear_model import LinearRegression, Lasso, Ridge, ElasticNet, BayesianRidge, ARDRegression\n",
    "\n",
    "def poly_regression(x_train, y_train, degree, reg_model=LinearRegression()):\n",
    "    poly = PolynomialFeatures(degree)\n",
    "    poly_train = poly.fit_transform(x_train)\n",
    "    reg_p = reg_model.fit(poly_train, y_train.ravel())   \n",
    "    return reg_p, poly\n",
    "\n",
    "def make_prediction(reg_model, poly, xtest):\n",
    "    test_features = poly.transform(xtest)\n",
    "    p_pred = reg_model.predict(test_features)\n",
    "    p_pred = p_pred.reshape(p_pred.shape[0],1)\n",
    "    return p_pred\n",
    "\n",
    "degree = 4\n",
    "# model = BayesianRidge()\n",
    "model = ARDRegression()\n",
    "# model = LinearRegression()\n",
    "# model = Lasso(alpha=1e-5, max_iter=1000, warm_start=True, tol=1e-4, selection='random')\n",
    "# model = Ridge(alpha=0.1, max_iter=1000, tol=1e-4, solver='auto')\n",
    "# model = ElasticNet(alpha=1e-6, l1_ratio=0.5, max_iter=1000, tol=1e-4, selection='cyclic')\n",
    "\n",
    "reg_model, poly_feature_trans = poly_regression(X, y, degree, model)\n"
   ]
  },
  {
   "cell_type": "code",
   "execution_count": 3,
   "id": "af6e61bf",
   "metadata": {},
   "outputs": [],
   "source": [
    "# 定义P(v,t)\n",
    "def P(v,t):\n",
    "    v_std = (v-Vmin)/Vscale\n",
    "    t_std = (t-Tmin)/Tscale\n",
    "    lnt_std = (np.log(t) - np.min(lnT))/(np.max(lnT) - np.min(lnT))\n",
    "    p_std = make_prediction(reg_model, poly_feature_trans, np.array([[v_std,t_std,lnt_std]]))[0][0]\n",
    "    p = p_std*Pscale + Pmin\n",
    "    return p"
   ]
  },
  {
   "cell_type": "code",
   "execution_count": 4,
   "id": "c5264f63",
   "metadata": {},
   "outputs": [
    {
     "data": {
      "text/plain": [
       "3.06832733"
      ]
     },
     "execution_count": 4,
     "metadata": {},
     "output_type": "execute_result"
    }
   ],
   "source": [
    "# 对P求变上限积分（任意值）得到F\n",
    "from scipy.integrate import quad\n",
    "\n",
    "# 积分常数项f(T)\n",
    "def f(t,zeta):\n",
    "    f_t = zeta[0] + zeta[1]*t + zeta[2]*(t**zeta[3])\n",
    "    return f_t\n",
    "\n",
    "def F(v,t,k):\n",
    "    result,err = quad(func=P,a=Vmin,b=v,args=(t,))  # args为函数P除自变量以外的参数t的值(元组)\n",
    "    # result为积分值，err为算法的计算误差\n",
    "    int_value = f(t,zeta=k) - result\n",
    "    return int_value\n",
    "Vmin"
   ]
  },
  {
   "cell_type": "code",
   "execution_count": 5,
   "id": "4e9c73a7",
   "metadata": {},
   "outputs": [],
   "source": [
    "# 定义能量E函数(任意值)\n",
    "def E(v,t,s=np.array([-799.28947485,-0.96842873,1.78234985,0.9679437])):\n",
    "    dt = 1e-3 # 数值偏导数的微小增量\n",
    "    e = F(v,t,k=s)-t*((F(v,t+dt,k=s)-F(v,t,k=s))/dt)\n",
    "    return e*(6.241509326*0.001)  # 量纲换算"
   ]
  },
  {
   "cell_type": "code",
   "execution_count": 6,
   "id": "b068bf15",
   "metadata": {},
   "outputs": [
    {
     "data": {
      "text/plain": [
       "-8.062918548379997"
      ]
     },
     "execution_count": 6,
     "metadata": {},
     "output_type": "execute_result"
    }
   ],
   "source": [
    "# 定义损失函数\n",
    "def loss(theta):\n",
    "    mse = 0\n",
    "    for i in range(df_E.shape[0] - 1):\n",
    "        e_pre = E(df_V[i],df_T[i],s=theta)\n",
    "#         mse += (e_pre - df_E[i])**2\n",
    "        if i < df_E.shape[0] - 2:\n",
    "            mse += 0.9*(e_pre - df_E[i])**2\n",
    "        else:\n",
    "            mse += 0.1*(e_pre - df_E[i])**2\n",
    "    return mse\n",
    "\n",
    "E(df_V[0],df_T[0])"
   ]
  },
  {
   "cell_type": "code",
   "execution_count": 7,
   "id": "9e7f8e55",
   "metadata": {
    "scrolled": false
   },
   "outputs": [
    {
     "name": "stdout",
     "output_type": "stream",
     "text": [
      "   direc: array([[1., 0., 0., 0.],\n",
      "       [0., 1., 0., 0.],\n",
      "       [0., 0., 1., 0.],\n",
      "       [0., 0., 0., 1.]])\n",
      "     fun: 0.008191862598405064\n",
      " message: 'Optimization terminated successfully.'\n",
      "    nfev: 122\n",
      "     nit: 2\n",
      "  status: 0\n",
      " success: True\n",
      "       x: array([-8.01954293e+02,  7.95503295e-01,  1.78212020e+00,  9.67945102e-01])\n"
     ]
    }
   ],
   "source": [
    "# 优化\n",
    "from scipy.optimize import minimize\n",
    "\n",
    "# 初始化变量\n",
    "theta0 = np.array([-799.28947485,-0.96842873,1.78234985,0.9679437])\n",
    "\n",
    "result = minimize(loss,theta0,method ='Powell')\n",
    "print(result)"
   ]
  },
  {
   "cell_type": "code",
   "execution_count": null,
   "id": "8dace49a",
   "metadata": {},
   "outputs": [],
   "source": []
  },
  {
   "cell_type": "code",
   "execution_count": 8,
   "id": "497ae2ff",
   "metadata": {},
   "outputs": [
    {
     "data": {
      "text/plain": [
       "<matplotlib.legend.Legend at 0x2242df587c0>"
      ]
     },
     "execution_count": 8,
     "metadata": {},
     "output_type": "execute_result"
    }
   ],
   "source": [
    "# 绘制优化后的曲面E\n",
    "\n",
    "grid_level = 40\n",
    "C = result.x  # 优化后得到的参数\n",
    "# C = np.array([-799.28947485,-0.96842873,1.78234985,0.9679437])\n",
    "\n",
    "vv = np.linspace(Vmin,Vmax,grid_level)\n",
    "tt = np.linspace(Tmin,Tmax,grid_level)\n",
    "E_grid_pre = np.full((grid_level,grid_level),0.0)\n",
    "error_grid = np.full((grid_level,grid_level),0.0)\n",
    "vvv, ttt = np.meshgrid(vv, tt,indexing='ij')\n",
    "vt_grid = np.c_[vvv.reshape((-1, 1)),  ttt.reshape((-1, 1))]\n",
    "fig = plt.figure(figsize=(10, 8))\n",
    "ax1 = fig.add_subplot(111, projection='3d')\n",
    "for i in range(grid_level):\n",
    "    for j in range(grid_level):\n",
    "        E_grid_pre[i][j] = E(vt_grid[vv.shape[0]*i,0],vt_grid[j,1],s=C)\n",
    "\n",
    "p1 = ax1.scatter(vt_grid[:,0], \n",
    "                vt_grid[:,1], \n",
    "                E_grid_pre, \n",
    "                alpha=0.3,\n",
    "                linewidths=2,\n",
    "                c='b'\n",
    "#                 cmap='b'\n",
    "                )\n",
    "p2 = ax1.scatter(df_V,\n",
    "                 df_T,\n",
    "                 df_E,\n",
    "                 alpha=1,\n",
    "                 linewidths=2.5,\n",
    "                 c='r')\n",
    "\n",
    "ax1.set_xlabel(r'Volume ($\\AA^{3}/atom$)', fontsize=15, labelpad=8)\n",
    "ax1.set_ylabel('Temperature (K)', fontsize=15, labelpad=12)\n",
    "ax1.set_zlabel('Eenergy (eV/atom)', fontsize=15, labelpad=9)\n",
    "ax1.legend(['Grid Data','DFT-Data'], loc='upper right', fontsize=15)"
   ]
  },
  {
   "cell_type": "code",
   "execution_count": null,
   "id": "213b77b5",
   "metadata": {},
   "outputs": [],
   "source": []
  },
  {
   "cell_type": "code",
   "execution_count": null,
   "id": "fd8b696b",
   "metadata": {},
   "outputs": [],
   "source": []
  }
 ],
 "metadata": {
  "kernelspec": {
   "display_name": "Python 3 (ipykernel)",
   "language": "python",
   "name": "python3"
  },
  "language_info": {
   "codemirror_mode": {
    "name": "ipython",
    "version": 3
   },
   "file_extension": ".py",
   "mimetype": "text/x-python",
   "name": "python",
   "nbconvert_exporter": "python",
   "pygments_lexer": "ipython3",
   "version": "3.8.7"
  }
 },
 "nbformat": 4,
 "nbformat_minor": 5
}
